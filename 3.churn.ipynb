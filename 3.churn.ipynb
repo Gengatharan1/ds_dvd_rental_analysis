{
 "cells": [
  {
   "cell_type": "markdown",
   "metadata": {},
   "source": [
    "x - customer_name, address, city, country, rental_rate, rental_duration\n",
    "\n",
    "y - active - active/non-active customers. \n",
    "\n",
    "import csv\n",
    "\n",
    "pickle save - fitted scaler\n",
    "\n",
    "pickle save - trained model"
   ]
  }
 ],
 "metadata": {
  "language_info": {
   "name": "python"
  }
 },
 "nbformat": 4,
 "nbformat_minor": 2
}
