{
 "cells": [
  {
   "cell_type": "markdown",
   "metadata": {},
   "source": [
    "x - title, film length, rating, special_features, actor_name, language\n",
    "\n",
    "y - film catagory (genre)\n",
    "\n",
    "pickle save - scaler\n",
    "\n",
    "pickle save - model"
   ]
  },
  {
   "cell_type": "code",
   "execution_count": null,
   "metadata": {
    "vscode": {
     "languageId": "plaintext"
    }
   },
   "outputs": [],
   "source": []
  }
 ],
 "metadata": {
  "language_info": {
   "name": "python"
  }
 },
 "nbformat": 4,
 "nbformat_minor": 2
}
